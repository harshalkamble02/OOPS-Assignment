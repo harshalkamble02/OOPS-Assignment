{
  "nbformat": 4,
  "nbformat_minor": 0,
  "metadata": {
    "colab": {
      "provenance": []
    },
    "kernelspec": {
      "name": "python3",
      "display_name": "Python 3"
    },
    "language_info": {
      "name": "python"
    }
  },
  "cells": [
    {
      "cell_type": "markdown",
      "source": [
        " Q1. What is Object-Oriented Programming (OOP)?\n",
        " - Object-Oriented Programming (OOP) is a programming paradigm that organizes code around objects rather than functions and logic.\n",
        "\n",
        "In OOP, we model real-world entities (like Car, Student, Bank Account) as objects.\n",
        "Each object has:\n",
        "\n",
        "Attributes (Data/Properties) → Variables that describe the object\n",
        "\n",
        "Methods (Functions/Behavior) → Actions the object can perform.\n",
        "\n",
        " Q2. What is a class in OOP?\n",
        " -  A class is like a blueprint for creating objects.\n",
        "\n",
        "It defines attributes (variables) and methods (functions) that objects will have.\n",
        "\n",
        "Q3. What is an object in OOP?\n",
        "- An object is an instance of a class. When you create an object, Python allocates memory and initializes it using the class template.\n",
        "\n",
        "car1 has its own brand and model data, independent of other objects.\n",
        "\n",
        "Q4. What is the difference between abstraction and encapsulation?\n",
        "-\n",
        " - Abstraction – Hides implementation details and shows only the essential features.\n",
        " - Encapsulation – Wraps data and methods into a single unit (class) and restricts direct access.\n",
        "\n",
        "Q5 What are dunder methods in Python?\n",
        "-  Dunder methods = Double Underscore Methods (e.g., __init__, __str__).\n",
        "\n",
        "They are special methods used to define object behavior in Python.\n",
        "\n",
        " Examples:\n",
        "\n",
        "__init__ → Constructor\n",
        "\n",
        "__str__ → String representation for print()\n",
        "\n",
        "__add__ → Operator overloading (+)\n",
        "\n",
        "Q6. Explain the concept of inheritance in OOP.\n",
        "- Inheritance allows a child class to acquire attributes and methods of a parent class.\n",
        "\n",
        "- Types of Inheritance:\n",
        "\n",
        " - Single (one parent, one child)\n",
        "\n",
        " - Multiple (child inherits from multiple parents)\n",
        "\n",
        " - Multilevel (child → parent → grandparent)\n",
        "\n",
        "Q7 What is Polymorphism in OOP?\n",
        "- Polymorphism = “many forms”.\n",
        "\n",
        "A single method name can have different implementations depending on the object.\n",
        "\n",
        "Q8. How is Encapsulation achieved in Python?\n",
        "-\n",
        " - By making variables private (using _ or __ prefixes).\n",
        "\n",
        " - By providing getter and setter methods.\n",
        "\n",
        "Q9. What is a constructor in Python?\n",
        "- The __init__() method in Python is called a constructor.\n",
        "\n",
        " - It initializes an object’s attributes automatically when it is created.\n",
        "\n",
        "Q10. What are class and static methods in Python?\n",
        "-\n",
        " - Class Method → Uses @classmethod, takes cls, works on the class.\n",
        "  - Static Method → Uses @staticmethod, doesn’t take self or cls.\n",
        "\n",
        "  Q11. Method Overloading in Python?\n",
        "  -\n",
        "   - Not supported natively (like Java).\n",
        "\n",
        " - Achieved using default arguments or *args.\n",
        "\n",
        "Q12. What is method overriding in OOP?\n",
        "- A child class redefines a parent method.\n",
        "\n",
        "Q13. What is a property decorator in Python?\n",
        "- It converts a method into a read-only attribute.\n",
        "\n",
        "Q14.  Why is polymorphism important in OOP?\n",
        "-\n",
        " - Makes code flexible\n",
        " - Allows same method name to work differently across classes\n",
        "  - Supports clean design and reusability\n",
        "\n",
        "Q15. What is an abstract class in Python?\n",
        "-\n",
        " - Cannot be instantiated.\n",
        "\n",
        " - Contains abstract methods (must be implemented by child classes).\n",
        "\n",
        "Q16. What are the advantages of OOP?\n",
        "- -  Code reusability (via inheritance)\n",
        "  - Organized and modular structure\n",
        " - Easier to maintain and scale\n",
        " - Models real-world objects easily\n",
        "\n",
        "\n",
        "\n",
        "Q17. What is the difference between a class variable and an instance variable?\n",
        "-\n",
        " - Class variable → Shared by all objects\n",
        "\n",
        " - Instance variable → Unique for each object\n",
        "\n",
        "Q18. What is multiple inheritance in Python?\n",
        "- A class inherits from more than one parent\n",
        "\n",
        "Q19. Explain the purpose of __str__ and __repr__ methods in Python.\n",
        "-\n",
        " - __str__: User-friendly output (print(object))\n",
        "\n",
        " - __repr__: Developer-friendly (for debugging)\n",
        "\n",
        "Q20.  What is the significance of the super() function in Python?\n",
        "\n",
        "- Used to call parent class methods in child class\n",
        "\n",
        "Q21. What is the significance of the __del__ method in Python?\n",
        "- Destructor method, called when an object is deleted.\n",
        "\n",
        "Q22. What is the difference between @staticmethod and @classmethod in Python?\n",
        "-  - @staticmethod → No access to class or object.\n",
        "\n",
        "  - @classmethod → Works on class level, takes cls.\n",
        "\n",
        "Q23. How does polymorphism work in Python with inheritance?\n",
        "-  - Child class overrides parent methods.\n",
        "\n",
        " - Same method behaves differently based on object.\n",
        "\n",
        "Q24. What is method chaining in Python OOP?\n",
        "- Method returns self, so calls can be chained.\n",
        "\n",
        "Q25. What is the purpose of the __call__ method in Python?\n",
        "- Makes an object callable like a function."
      ],
      "metadata": {
        "id": "R_2-7DoHA200"
      }
    },
    {
      "cell_type": "code",
      "execution_count": null,
      "metadata": {
        "id": "RaeYr2idAioM"
      },
      "outputs": [],
      "source": [
        "# Q2 What is a class in OOP?\n",
        "class Car:\n",
        "    def __init__(self, brand, model):\n",
        "        self.brand = brand\n",
        "        self.model = model\n",
        "# Here, Car is a class.\n"
      ]
    },
    {
      "cell_type": "code",
      "source": [
        "#Q3 What is an object in OOP?\n",
        "car1 = Car(\"Tesla\", \"Model S\")   # car1 is an object\n"
      ],
      "metadata": {
        "id": "lKBjPpeKDwlT"
      },
      "execution_count": null,
      "outputs": []
    },
    {
      "cell_type": "code",
      "source": [
        "# Q6 Explain the concept of inheritance in OOP.\n",
        "class Animal:\n",
        "    def speak(self):\n",
        "        print(\"I make a sound\")\n",
        "\n",
        "class Dog(Animal):\n",
        "    def speak(self):\n",
        "        print(\"Bark!\")"
      ],
      "metadata": {
        "id": "f15yB81JEyX3"
      },
      "execution_count": 1,
      "outputs": []
    },
    {
      "cell_type": "code",
      "source": [
        "# Q7 What is Polymorphism in OOP?\n",
        "for animal in [Dog(), Cat()]:\n",
        "    animal.speak()  # Different behavior for each class\n"
      ],
      "metadata": {
        "id": "YlNIPbzXE0Rc"
      },
      "execution_count": null,
      "outputs": []
    },
    {
      "cell_type": "code",
      "source": [
        "# Q8. How is Encapsulation achieved in Python?\n",
        "class BankAccount:\n",
        "    def __init__(self):\n",
        "        self.__balance = 0  # private\n"
      ],
      "metadata": {
        "id": "cBo1_CapFaij"
      },
      "execution_count": null,
      "outputs": []
    },
    {
      "cell_type": "code",
      "source": [
        "# Q9. What is a constructor in Python?\n",
        "class Car:\n",
        "    def __init__(self, brand):\n",
        "        self.brand = brand\n"
      ],
      "metadata": {
        "id": "EtrrfKVyFzcI"
      },
      "execution_count": null,
      "outputs": []
    },
    {
      "cell_type": "code",
      "source": [
        "# Q11. What is method overloading in Python?\n",
        "class Math:\n",
        "    def add(self, a, b=0):\n",
        "        return a + b\n"
      ],
      "metadata": {
        "id": "ivg4MngRGfdm"
      },
      "execution_count": null,
      "outputs": []
    },
    {
      "cell_type": "code",
      "source": [
        "# Q12 What is method overriding in OOP?\n",
        "class Animal:\n",
        "    def sound(self):\n",
        "        print(\"Generic sound\")\n",
        "\n",
        "class Dog(Animal):\n",
        "    def sound(self):\n",
        "        print(\"Bark!\")\n"
      ],
      "metadata": {
        "id": "CZfEFZAwGh_3"
      },
      "execution_count": null,
      "outputs": []
    },
    {
      "cell_type": "code",
      "source": [
        "# Q13 What is a property decorator in Python?\n",
        "class Circle:\n",
        "    @property\n",
        "    def area(self):\n",
        "        return 3.14 * self.radius ** 2\n"
      ],
      "metadata": {
        "id": "S-Xa0x1AGrTR"
      },
      "execution_count": null,
      "outputs": []
    },
    {
      "cell_type": "code",
      "source": [
        "# Q15 What is an Abstract Class in Python\n",
        "from abc import ABC, abstractmethod\n",
        "class Shape(ABC):\n",
        "    @abstractmethod\n",
        "    def area(self):\n",
        "        pass\n"
      ],
      "metadata": {
        "id": "-pAzMJVFGzP0"
      },
      "execution_count": null,
      "outputs": []
    },
    {
      "cell_type": "code",
      "source": [
        "# Q18 What is multiple inheritance in Python?\n",
        "class A: pass\n",
        "class B: pass\n",
        "class C(A, B): pass\n"
      ],
      "metadata": {
        "id": "VOg_EjDoG6zJ"
      },
      "execution_count": null,
      "outputs": []
    },
    {
      "cell_type": "code",
      "source": [
        "# Q24 What is method chaining in Python OOP?\n",
        "obj.setName(\"John\").setAge(25).print()\n"
      ],
      "metadata": {
        "id": "9ghBcpY6HC6-"
      },
      "execution_count": null,
      "outputs": []
    },
    {
      "cell_type": "code",
      "source": [
        "# Q25 What is the purpose of the __call__ method in Python?\n",
        "class Test:\n",
        "    def __call__(self):\n",
        "        print(\"Object called like function\")\n"
      ],
      "metadata": {
        "id": "hVLXhywVHU8S"
      },
      "execution_count": null,
      "outputs": []
    }
  ]
}